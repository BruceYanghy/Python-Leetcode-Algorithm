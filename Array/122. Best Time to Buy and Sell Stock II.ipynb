{
 "cells": [
  {
   "cell_type": "markdown",
   "metadata": {},
   "source": [
    "## Say you have an array for which the ith element is the price of a given stock on day i. \n",
    "## Design an algorithm to find the maximum profit. You may complete as many transactions as you like (i.e., buy one and sell one share of the stock multiple times).\n",
    "\n",
    "Note: You may not engage in multiple transactions at the same time (i.e., you must sell the stock before you buy again).\n",
    "\n",
    "Example 1:\n",
    "\n",
    "Input: [7,1,5,3,6,4]\n",
    "Output: 7\n",
    "Explanation: Buy on day 2 (price = 1) and sell on day 3 (price = 5), profit = 5-1 = 4.\n",
    "             Then buy on day 4 (price = 3) and sell on day 5 (price = 6), profit = 6-3 = 3.\n",
    "Example 2:\n",
    "\n",
    "Input: [1,2,3,4,5]\n",
    "Output: 4\n",
    "Explanation: Buy on day 1 (price = 1) and sell on day 5 (price = 5), profit = 5-1 = 4.\n",
    "             Note that you cannot buy on day 1, buy on day 2 and sell them later, as you are\n",
    "             engaging multiple transactions at the same time. You must sell before buying again.\n",
    "Example 3:\n",
    "\n",
    "Input: [7,6,4,3,1]\n",
    "Output: 0\n",
    "Explanation: In this case, no transaction is done, i.e. max profit = 0."
   ]
  },
  {
   "cell_type": "code",
   "execution_count": 1,
   "metadata": {
    "collapsed": true
   },
   "outputs": [],
   "source": [
    "input1=[7,1,5,3,6,4]"
   ]
  },
  {
   "cell_type": "code",
   "execution_count": 2,
   "metadata": {},
   "outputs": [
    {
     "name": "stdout",
     "output_type": "stream",
     "text": [
      "0 7 7 0\n",
      "1 1 1 0\n",
      "2 5 1 4\n",
      "3 3 1 4\n",
      "4 6 1 5\n",
      "5 4 1 5\n",
      "6 8 1 7\n"
     ]
    }
   ],
   "source": [
    "#解题思路：扫描一遍数组，使用low来标记最低价位，如果有更低的价位，置换掉。\n",
    "\n",
    "\n",
    "prices =[7,1,5,3,6,4,8]\n",
    "max_diff = 0\n",
    "low=prices[0]\n",
    "\n",
    "for i in range(len(prices)):\n",
    "    \n",
    "    if prices[i]<low:\n",
    "        low=prices[i]\n",
    "        \n",
    "    max_diff=max(prices[i]-low,max_diff)\n",
    "    print(i,prices[i],low,max_diff)\n"
   ]
  },
  {
   "cell_type": "code",
   "execution_count": 6,
   "metadata": {},
   "outputs": [
    {
     "name": "stdout",
     "output_type": "stream",
     "text": [
      "0 1\n",
      "0 2\n",
      "0 3\n",
      "0 4\n",
      "0 5\n",
      "1 2\n",
      "1 3\n",
      "1 4\n",
      "1 5\n",
      "2 3\n",
      "2 4\n",
      "2 5\n",
      "3 4\n",
      "3 5\n",
      "4 5\n"
     ]
    }
   ],
   "source": [
    "input1 =[7,1,5,3,6,4]\n",
    "max_diff = 0\n",
    "for i in range(len(input1)-1):\n",
    "    for j in range(i+1,len(input1)):\n",
    "        if (input1[j]-input1[i]) > max_diff:\n",
    "            max_diff=input1[j]-input1[i]\n"
   ]
  },
  {
   "cell_type": "code",
   "execution_count": 5,
   "metadata": {},
   "outputs": [
    {
     "data": {
      "text/plain": [
       "5"
      ]
     },
     "execution_count": 5,
     "metadata": {},
     "output_type": "execute_result"
    }
   ],
   "source": [
    "max_diff"
   ]
  },
  {
   "cell_type": "code",
   "execution_count": 28,
   "metadata": {},
   "outputs": [
    {
     "name": "stdout",
     "output_type": "stream",
     "text": [
      "0 1 7 1 -6\n",
      "0 2 7 5 -2\n",
      "0 3 7 3 -4\n",
      "0 4 7 6 -1\n",
      "0 5 7 4 -3\n",
      "1 2 1 5 4\n",
      "1 3 1 3 2\n",
      "1 4 1 6 5\n",
      "1 5 1 4 3\n",
      "2 3 5 3 -2\n",
      "2 4 5 6 1\n",
      "2 5 5 4 -1\n",
      "3 4 3 6 3\n",
      "3 5 3 4 1\n",
      "4 5 6 4 -2\n"
     ]
    }
   ],
   "source": [
    "prices =[7,1,5,3,6,4]\n",
    "max_diff = 0\n",
    "low=prices[0]\n",
    "total_max=0\n",
    "\n",
    "for i in range(len(prices)-1):\n",
    "    for j in range(i+1,len(prices)):\n",
    "        \n",
    "        print(i,j,prices[i],prices[j],prices[j]-prices[i])\n",
    "       \n",
    "            "
   ]
  },
  {
   "cell_type": "code",
   "execution_count": 27,
   "metadata": {},
   "outputs": [
    {
     "data": {
      "text/plain": [
       "2048"
      ]
     },
     "execution_count": 27,
     "metadata": {},
     "output_type": "execute_result"
    }
   ],
   "source": [
    "total_max"
   ]
  },
  {
   "cell_type": "markdown",
   "metadata": {},
   "source": [
    "## 累计递增"
   ]
  },
  {
   "cell_type": "code",
   "execution_count": 31,
   "metadata": {},
   "outputs": [
    {
     "name": "stdout",
     "output_type": "stream",
     "text": [
      "1 7 1\n",
      "2 1 5\n",
      "3 5 3\n",
      "4 3 6\n",
      "5 6 4\n"
     ]
    }
   ],
   "source": [
    "maxprofit = 0\n",
    "for i in range(1, len(prices)):\n",
    "    if prices[i] >= prices[i-1]:\n",
    "        maxprofit += prices[i] - prices[i-1]\n",
    "    print(i,prices[i-1],prices[i])"
   ]
  },
  {
   "cell_type": "code",
   "execution_count": 30,
   "metadata": {},
   "outputs": [
    {
     "data": {
      "text/plain": [
       "7"
      ]
     },
     "execution_count": 30,
     "metadata": {},
     "output_type": "execute_result"
    }
   ],
   "source": [
    "maxprofit"
   ]
  },
  {
   "cell_type": "code",
   "execution_count": null,
   "metadata": {
    "collapsed": true
   },
   "outputs": [],
   "source": []
  }
 ],
 "metadata": {
  "kernelspec": {
   "display_name": "Python 3",
   "language": "python",
   "name": "python3"
  },
  "language_info": {
   "codemirror_mode": {
    "name": "ipython",
    "version": 3
   },
   "file_extension": ".py",
   "mimetype": "text/x-python",
   "name": "python",
   "nbconvert_exporter": "python",
   "pygments_lexer": "ipython3",
   "version": "3.6.3"
  }
 },
 "nbformat": 4,
 "nbformat_minor": 2
}
