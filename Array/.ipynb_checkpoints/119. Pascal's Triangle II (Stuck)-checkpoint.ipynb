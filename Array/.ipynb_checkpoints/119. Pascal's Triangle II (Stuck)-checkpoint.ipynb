{
 "cells": [
  {
   "cell_type": "raw",
   "metadata": {},
   "source": [
    "119. Pascal's Triangle II\n",
    "Easy\n",
    "353\n",
    "137\n",
    "\n",
    "\n",
    "Given a non-negative index k where k ≤ 33, return the kth index row of the Pascal's triangle.\n",
    "\n",
    "Note that the row index starts from 0.\n",
    "\n",
    "\n",
    "In Pascal's triangle, each number is the sum of the two numbers directly above it.\n",
    "\n",
    "Example:\n",
    "\n",
    "Input: 3\n",
    "Output: [1,3,3,1]\n",
    "Follow up:\n",
    "\n",
    "Could you optimize your algorithm to use only O(k) extra space?"
   ]
  },
  {
   "cell_type": "raw",
   "metadata": {},
   "source": [
    "思路一\n",
    "用到一个小小的trick，即：每一行的结果可以由上一行和上一行的偏移相加得到。例如求第4行：\n",
    "\n",
    "    1 3 3 1 0 \n",
    " +  0 1 3 3 1\n",
    " =  1 4 6 4 1 \n",
    "\n",
    "代码\n",
    "\n",
    "class Solution(object):\n",
    "    def getRow(self, rowIndex):\n",
    "        \"\"\"\n",
    "        :type rowIndex: int\n",
    "        :rtype: List[int]\n",
    "        \"\"\"\n",
    "        res = [1] + [0] * rowIndex\n",
    "        for i in range(rowIndex):\n",
    "            res[0] = 1\n",
    "            for j in range(i+1, 0, -1):\n",
    "                res[j] = res[j] + res[j-1]\n",
    "        return res\n",
    "\n",
    "\n",
    "思路二\n",
    "另外，也可以不考虑上一行，直接根据公式求出当前行的内容。帕斯卡三角形的第n行第m个元素是 C(n, m) = n!/(m! * (n-m)!)。所以 C(n, m-1) = n!/((m-1)! * (n-m+1)!)，所以 C(n, m) = C(n, m-1) * (n-m+1) / m。另外，有组合数的性质可以减少一半计算量：C(n, m) == C(n, n-m)。\n",
    "\n",
    "代码\n",
    "\n",
    "class Solution(object):\n",
    "    def getRow(self, rowIndex):\n",
    "        \"\"\"\n",
    "        :type rowIndex: int\n",
    "        :rtype: List[int]\n",
    "        \"\"\"\n",
    "        res = [1] * (rowIndex+1)\n",
    "        for i in range(1, rowIndex/2+1):\n",
    "            res[i] = res[rowIndex-i] = res[i-1] * (rowIndex-i+1) / i\n",
    "        return res\n",
    "--------------------- \n",
    "作者：coder_orz \n",
    "来源：CSDN \n",
    "原文：https://blog.csdn.net/coder_orz/article/details/51591374 \n",
    "版权声明：本文为博主原创文章，转载请附上博文链接！"
   ]
  },
  {
   "cell_type": "code",
   "execution_count": 1,
   "metadata": {},
   "outputs": [],
   "source": [
    "rowIndex=3"
   ]
  },
  {
   "cell_type": "code",
   "execution_count": 2,
   "metadata": {},
   "outputs": [],
   "source": [
    "res = [1] + [0] * rowIndex"
   ]
  },
  {
   "cell_type": "code",
   "execution_count": 3,
   "metadata": {},
   "outputs": [
    {
     "data": {
      "text/plain": [
       "[1, 0, 0, 0]"
      ]
     },
     "execution_count": 3,
     "metadata": {},
     "output_type": "execute_result"
    }
   ],
   "source": [
    "res"
   ]
  },
  {
   "cell_type": "code",
   "execution_count": 4,
   "metadata": {},
   "outputs": [],
   "source": [
    "def getRow(self, rowIndex):\n",
    "    \"\"\"\n",
    "    :type rowIndex: int\n",
    "    :rtype: List[int]\n",
    "    \"\"\"\n",
    "    res = [1] + [0] * rowIndex\n",
    "    for i in range(rowIndex):\n",
    "        res[0] = 1\n",
    "        for j in range(i+1, 0, -1):\n",
    "            res[j] = res[j] + res[j-1]\n",
    "    return res"
   ]
  },
  {
   "cell_type": "code",
   "execution_count": null,
   "metadata": {},
   "outputs": [],
   "source": []
  },
  {
   "cell_type": "code",
   "execution_count": null,
   "metadata": {},
   "outputs": [],
   "source": []
  },
  {
   "cell_type": "code",
   "execution_count": null,
   "metadata": {},
   "outputs": [],
   "source": []
  }
 ],
 "metadata": {
  "kernelspec": {
   "display_name": "Python 3",
   "language": "python",
   "name": "python3"
  },
  "language_info": {
   "codemirror_mode": {
    "name": "ipython",
    "version": 3
   },
   "file_extension": ".py",
   "mimetype": "text/x-python",
   "name": "python",
   "nbconvert_exporter": "python",
   "pygments_lexer": "ipython3",
   "version": "3.6.5"
  }
 },
 "nbformat": 4,
 "nbformat_minor": 2
}
