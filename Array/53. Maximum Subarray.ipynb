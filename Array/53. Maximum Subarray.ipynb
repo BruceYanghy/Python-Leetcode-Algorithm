{
 "cells": [
  {
   "cell_type": "markdown",
   "metadata": {},
   "source": [
    "Given an integer array nums, find the contiguous subarray (containing at least one number) which has the largest sum and return its sum.\n",
    "\n",
    "Example:\n",
    "\n",
    "Input: [-2,1,-3,4,-1,2,1,-5,4],\n",
    "Output: 6\n",
    "Explanation: [4,-1,2,1] has the largest sum = 6.\n",
    "Follow up:\n",
    "\n",
    "If you have figured out the O(n) solution, try coding another solution using the divide and conquer approach, which is more subtle."
   ]
  },
  {
   "cell_type": "code",
   "execution_count": null,
   "metadata": {
    "collapsed": true
   },
   "outputs": [],
   "source": []
  },
  {
   "cell_type": "code",
   "execution_count": 8,
   "metadata": {
    "collapsed": true
   },
   "outputs": [],
   "source": [
    "input1=[-2,1,-3,4,-1,2,1,-5,4]"
   ]
  },
  {
   "cell_type": "code",
   "execution_count": 9,
   "metadata": {},
   "outputs": [
    {
     "data": {
      "text/plain": [
       "[-2, 1, -3, 4, -1, 2, 1, -5, 4]"
      ]
     },
     "execution_count": 9,
     "metadata": {},
     "output_type": "execute_result"
    }
   ],
   "source": []
  },
  {
   "cell_type": "code",
   "execution_count": 16,
   "metadata": {},
   "outputs": [
    {
     "data": {
      "text/plain": [
       "9"
      ]
     },
     "execution_count": 16,
     "metadata": {},
     "output_type": "execute_result"
    }
   ],
   "source": [
    "len(input1)"
   ]
  },
  {
   "cell_type": "markdown",
   "metadata": {},
   "source": [
    "## 暴力找出所有的subset"
   ]
  },
  {
   "cell_type": "code",
   "execution_count": 56,
   "metadata": {
    "scrolled": true
   },
   "outputs": [
    {
     "name": "stdout",
     "output_type": "stream",
     "text": [
      "[-2]\n",
      "[-2, 1]\n",
      "[-2, 1, -3]\n",
      "[-2, 1, -3, 4]\n",
      "[-2, 1, -3, 4, -1]\n",
      "[-2, 1, -3, 4, -1, 2]\n",
      "[-2, 1, -3, 4, -1, 2, 1]\n",
      "[-2, 1, -3, 4, -1, 2, 1, -5]\n",
      "[-2, 1, -3, 4, -1, 2, 1, -5, 4]\n",
      "[1]\n",
      "[1, -3]\n",
      "[1, -3, 4]\n",
      "[1, -3, 4, -1]\n",
      "[1, -3, 4, -1, 2]\n",
      "[1, -3, 4, -1, 2, 1]\n",
      "[1, -3, 4, -1, 2, 1, -5]\n",
      "[1, -3, 4, -1, 2, 1, -5, 4]\n",
      "[-3]\n",
      "[-3, 4]\n",
      "[-3, 4, -1]\n",
      "[-3, 4, -1, 2]\n",
      "[-3, 4, -1, 2, 1]\n",
      "[-3, 4, -1, 2, 1, -5]\n",
      "[-3, 4, -1, 2, 1, -5, 4]\n",
      "[4]\n",
      "[4, -1]\n",
      "[4, -1, 2]\n",
      "[4, -1, 2, 1]\n",
      "[4, -1, 2, 1, -5]\n",
      "[4, -1, 2, 1, -5, 4]\n",
      "[-1]\n",
      "[-1, 2]\n",
      "[-1, 2, 1]\n",
      "[-1, 2, 1, -5]\n",
      "[-1, 2, 1, -5, 4]\n",
      "[2]\n",
      "[2, 1]\n",
      "[2, 1, -5]\n",
      "[2, 1, -5, 4]\n",
      "[1]\n",
      "[1, -5]\n",
      "[1, -5, 4]\n",
      "[-5]\n",
      "[-5, 4]\n",
      "[4]\n"
     ]
    }
   ],
   "source": [
    "input1=[-2,1,-3,4,-1,2,1,-5,4]\n",
    "for i in range(len(input1)):\n",
    "    for j in range(i,len(input1)):\n",
    "        print(input1[i:j+1])"
   ]
  },
  {
   "cell_type": "code",
   "execution_count": 118,
   "metadata": {},
   "outputs": [
    {
     "name": "stdout",
     "output_type": "stream",
     "text": [
      "0.00016521600082342047\n"
     ]
    }
   ],
   "source": [
    "import timeit\n",
    "start = timeit.timeit()\n",
    "nums=[1, -3, 4, -1, 2, 1, -5, 4]\n",
    "input1=[-2,1]\n",
    "for i in range(len(input1)):\n",
    "    for j in range(i,len(input1)):\n",
    "        new_sum=(sum(input1[i:j+1]))\n",
    "        if new_sum > maximum_sum:\n",
    "            maximum_sum=new_sum\n",
    "            nums = input1[i:j+1]\n",
    "end = timeit.timeit()\n",
    "print(end-start)"
   ]
  },
  {
   "cell_type": "code",
   "execution_count": 63,
   "metadata": {},
   "outputs": [
    {
     "data": {
      "text/plain": [
       "[1]"
      ]
     },
     "execution_count": 63,
     "metadata": {},
     "output_type": "execute_result"
    }
   ],
   "source": [
    "nums"
   ]
  },
  {
   "cell_type": "code",
   "execution_count": 64,
   "metadata": {},
   "outputs": [
    {
     "name": "stdout",
     "output_type": "stream",
     "text": [
      "[-2]\n",
      "[-2, 1]\n"
     ]
    }
   ],
   "source": [
    "input1=[-2,1]\n",
    "for i in range(len(input1)-1):\n",
    "    for j in range(i,len(input1)):\n",
    "        print(input1[i:j+1])"
   ]
  },
  {
   "cell_type": "markdown",
   "metadata": {},
   "source": [
    "## Loop出每一个临近值相加然后跟0比较 \n",
    "只要出现负值，那么最后一个加进去的必定是负的，那么就跳过这个负值，重新从下一位开始加"
   ]
  },
  {
   "cell_type": "code",
   "execution_count": null,
   "metadata": {
    "collapsed": true
   },
   "outputs": [],
   "source": []
  },
  {
   "cell_type": "code",
   "execution_count": 107,
   "metadata": {},
   "outputs": [
    {
     "name": "stdout",
     "output_type": "stream",
     "text": [
      "0.0018657840009836946\n"
     ]
    }
   ],
   "source": [
    "import timeit\n",
    "start = timeit.timeit()\n",
    "nums=[1, -3, 4, -1, 2, 1, -5, 4]\n",
    "\n",
    "thissum=0\n",
    "maxsum=-2**31\n",
    "\n",
    "for i in range(len(nums)):\n",
    "    if thissum<0:\n",
    "        thissum=0\n",
    "    thissum+=nums[i]\n",
    "    \n",
    "    maxsum=max(maxsum,thissum)\n",
    "\n",
    "end = timeit.timeit()\n",
    "print(end-start)"
   ]
  },
  {
   "cell_type": "code",
   "execution_count": 71,
   "metadata": {},
   "outputs": [
    {
     "data": {
      "text/plain": [
       "6"
      ]
     },
     "execution_count": 71,
     "metadata": {},
     "output_type": "execute_result"
    }
   ],
   "source": [
    "maxsum"
   ]
  },
  {
   "cell_type": "code",
   "execution_count": 82,
   "metadata": {},
   "outputs": [
    {
     "name": "stdout",
     "output_type": "stream",
     "text": [
      "3.160399955959292e-05\n"
     ]
    }
   ],
   "source": [
    "print(end-start)"
   ]
  },
  {
   "cell_type": "code",
   "execution_count": 75,
   "metadata": {},
   "outputs": [
    {
     "name": "stdout",
     "output_type": "stream",
     "text": [
      "1 1\n",
      "-3 -2\n",
      "4 4\n",
      "-1 3\n",
      "2 5\n",
      "1 6\n",
      "-5 1\n",
      "4 5\n"
     ]
    }
   ],
   "source": [
    "thissum=0\n",
    "\n",
    "nums=[1, -3, 4, -1, 2, 1, -5, 4]\n",
    "\n",
    "for i in range(len(nums)):\n",
    "    if thissum<0:\n",
    "        thissum=0\n",
    "        \n",
    "    thissum+=nums[i]\n",
    "    print(nums[i],thissum)\n",
    "    "
   ]
  },
  {
   "cell_type": "code",
   "execution_count": 120,
   "metadata": {},
   "outputs": [
    {
     "name": "stdout",
     "output_type": "stream",
     "text": [
      "-0.0010293840005033417\n"
     ]
    }
   ],
   "source": [
    "import timeit\n",
    "start = timeit.timeit()\n",
    "nums=[1, -3, 4, -1, 2, 1, -5, 4]\n",
    "\n",
    "msum = nums[0]\n",
    "current_sum = 0\n",
    "for num in nums:\n",
    "    current_sum += num\n",
    "    if msum < current_sum:\n",
    "        msum = current_sum\n",
    "    if current_sum < 0:\n",
    "        current_sum = 0\n",
    "        \n",
    "end = timeit.timeit()\n",
    "print(end-start)"
   ]
  },
  {
   "cell_type": "code",
   "execution_count": 121,
   "metadata": {},
   "outputs": [
    {
     "data": {
      "text/plain": [
       "6"
      ]
     },
     "execution_count": 121,
     "metadata": {},
     "output_type": "execute_result"
    }
   ],
   "source": [
    "msum"
   ]
  },
  {
   "cell_type": "code",
   "execution_count": null,
   "metadata": {
    "collapsed": true
   },
   "outputs": [],
   "source": []
  },
  {
   "cell_type": "code",
   "execution_count": null,
   "metadata": {
    "collapsed": true
   },
   "outputs": [],
   "source": []
  },
  {
   "cell_type": "code",
   "execution_count": null,
   "metadata": {
    "collapsed": true
   },
   "outputs": [],
   "source": []
  },
  {
   "cell_type": "code",
   "execution_count": 123,
   "metadata": {},
   "outputs": [
    {
     "data": {
      "text/plain": [
       "6"
      ]
     },
     "execution_count": 123,
     "metadata": {},
     "output_type": "execute_result"
    }
   ],
   "source": [
    "nums=[1, -3, 4, -1, 2, 1, -5, 4]\n",
    "\n",
    "for i in range(1, len(nums)):\n",
    "        if nums[i-1] > 0:\n",
    "            nums[i] += nums[i-1]\n",
    "max(nums)"
   ]
  },
  {
   "cell_type": "code",
   "execution_count": 124,
   "metadata": {},
   "outputs": [
    {
     "data": {
      "text/plain": [
       "[1, -2, 4, 3, 5, 6, 1, 5]"
      ]
     },
     "execution_count": 124,
     "metadata": {},
     "output_type": "execute_result"
    }
   ],
   "source": [
    "nums"
   ]
  },
  {
   "cell_type": "code",
   "execution_count": null,
   "metadata": {
    "collapsed": true
   },
   "outputs": [],
   "source": []
  },
  {
   "cell_type": "code",
   "execution_count": null,
   "metadata": {
    "collapsed": true
   },
   "outputs": [],
   "source": []
  },
  {
   "cell_type": "code",
   "execution_count": null,
   "metadata": {
    "collapsed": true
   },
   "outputs": [],
   "source": []
  },
  {
   "cell_type": "code",
   "execution_count": null,
   "metadata": {
    "collapsed": true
   },
   "outputs": [],
   "source": []
  },
  {
   "cell_type": "code",
   "execution_count": null,
   "metadata": {
    "collapsed": true
   },
   "outputs": [],
   "source": []
  },
  {
   "cell_type": "code",
   "execution_count": null,
   "metadata": {
    "collapsed": true
   },
   "outputs": [],
   "source": []
  }
 ],
 "metadata": {
  "kernelspec": {
   "display_name": "Python 3",
   "language": "python",
   "name": "python3"
  },
  "language_info": {
   "codemirror_mode": {
    "name": "ipython",
    "version": 3
   },
   "file_extension": ".py",
   "mimetype": "text/x-python",
   "name": "python",
   "nbconvert_exporter": "python",
   "pygments_lexer": "ipython3",
   "version": "3.6.3"
  }
 },
 "nbformat": 4,
 "nbformat_minor": 2
}
