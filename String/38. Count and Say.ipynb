{
 "cells": [
  {
   "cell_type": "markdown",
   "metadata": {},
   "source": [
    "The count-and-say sequence is the sequence of integers with the first five terms as following:\n",
    "\n",
    "1.     1\n",
    "2.     11\n",
    "3.     21\n",
    "4.     1211\n",
    "5.     111221\n",
    "6.     312211\n",
    "\n",
    "1 is read off as \"one 1\" or 11.\n",
    "11 is read off as \"two 1s\" or 21.\n",
    "21 is read off as \"one 2, then one 1\" or 1211.\n",
    "Given an integer n, generate the nth term of the count-and-say sequence.\n",
    "\n",
    "Note: Each term of the sequence of integers will be represented as a string.\n",
    "\n",
    "Example 1:\n",
    "\n",
    "Input: 1\n",
    "Output: \"1\"\n",
    "Example 2:\n",
    "\n",
    "Input: 4\n",
    "Output: \"1211\"\n"
   ]
  },
  {
   "cell_type": "markdown",
   "metadata": {},
   "source": [
    "## 说出前一位的数"
   ]
  },
  {
   "cell_type": "code",
   "execution_count": 10,
   "metadata": {
    "collapsed": true
   },
   "outputs": [],
   "source": [
    "def countAndSay(n):\n",
    "        \"\"\"\n",
    "        :type n: int\n",
    "        :rtype: str\n",
    "        \"\"\"\n",
    "        res = '1'\n",
    "        for i in range(n-1):\n",
    "            new_res = ''\n",
    "            j = 0\n",
    "            while j < len(res):\n",
    "                count = 1\n",
    "                while j < len(res)-1 and res[j] == res[j+1]:\n",
    "                    j = j + 1\n",
    "                    count = count + 1\n",
    "                j = j + 1\n",
    "                new_res = new_res + str(count) + res[j-1]\n",
    "            res = new_res\n",
    "        return res"
   ]
  },
  {
   "cell_type": "code",
   "execution_count": 11,
   "metadata": {},
   "outputs": [
    {
     "data": {
      "text/plain": [
       "'312211'"
      ]
     },
     "execution_count": 11,
     "metadata": {},
     "output_type": "execute_result"
    }
   ],
   "source": [
    "countAndSay(6)"
   ]
  },
  {
   "cell_type": "code",
   "execution_count": 15,
   "metadata": {},
   "outputs": [],
   "source": [
    "n=5\n",
    "res = '1'\n",
    "for i in range(n-1):\n",
    "    new_res = ''\n",
    "    j = 0\n",
    "    while j < len(res):\n",
    "        count = 1\n",
    "        while j < len(res)-1 and res[j] == res[j+1]:\n",
    "            j = j + 1\n",
    "            count = count + 1\n",
    "        j = j + 1\n",
    "        new_res = new_res + str(count) + res[j-1]\n",
    "    res = new_res"
   ]
  },
  {
   "cell_type": "code",
   "execution_count": 18,
   "metadata": {},
   "outputs": [
    {
     "data": {
      "text/plain": [
       "6"
      ]
     },
     "execution_count": 18,
     "metadata": {},
     "output_type": "execute_result"
    }
   ],
   "source": [
    "len(res)"
   ]
  },
  {
   "cell_type": "code",
   "execution_count": 26,
   "metadata": {},
   "outputs": [],
   "source": [
    "def countAndSay( n):\n",
    "        \"\"\"\n",
    "        :type n: int\n",
    "        :rtype: str\n",
    "        \"\"\"\n",
    "        res = '1'\n",
    "        for i in range(n-1):\n",
    "            new_res, pre, count = '', res[0], 0\n",
    "            for j in range(len(res)):\n",
    "                if res[j] == pre:\n",
    "                    count += 1\n",
    "                else:\n",
    "                    new_res += str(count) + pre\n",
    "                    count = 1\n",
    "                    pre = res[j]\n",
    "            res = new_res + str(count) + pre\n",
    "        return res"
   ]
  },
  {
   "cell_type": "code",
   "execution_count": 27,
   "metadata": {},
   "outputs": [
    {
     "data": {
      "text/plain": [
       "'312211'"
      ]
     },
     "execution_count": 27,
     "metadata": {},
     "output_type": "execute_result"
    }
   ],
   "source": [
    "countAndSay(6)"
   ]
  },
  {
   "cell_type": "code",
   "execution_count": 63,
   "metadata": {},
   "outputs": [
    {
     "name": "stdout",
     "output_type": "stream",
     "text": [
      "0\n",
      " 1 0\n",
      "0\n",
      "yes\n",
      "1\n",
      "11\n",
      "1\n",
      " 1 0\n",
      "0\n",
      "yes\n",
      "1\n",
      "yes\n",
      "11\n",
      "21\n",
      "2\n",
      " 2 0\n",
      "0\n",
      "yes\n",
      "1\n",
      "no\n",
      "21\n",
      "1211\n"
     ]
    }
   ],
   "source": [
    "n=4\n",
    "res = '1'\n",
    "for i in range(n-1):\n",
    "    print(i)\n",
    "    new_res=''\n",
    "    pre = res[0]\n",
    "    count =0\n",
    "    print(new_res,pre,count)\n",
    "    for j in range(len(res)):\n",
    "        print(j)\n",
    "        if res[j] == pre:\n",
    "            count += 1\n",
    "            print('yes')\n",
    "        else:\n",
    "            new_res += str(count) + pre\n",
    "            count = 1\n",
    "            pre = res[j]\n",
    "            print('no')\n",
    "    print(res)\n",
    "    res = new_res + str(count) + pre\n",
    "    print(res)"
   ]
  },
  {
   "cell_type": "code",
   "execution_count": null,
   "metadata": {},
   "outputs": [],
   "source": []
  },
  {
   "cell_type": "code",
   "execution_count": 65,
   "metadata": {},
   "outputs": [],
   "source": [
    "#the pattern is fixed\n",
    "n=5\n",
    "res='1'\n",
    "\n",
    "for i in range(n-1):\n",
    "    #fresh start\n",
    "    new_res = ''\n",
    "    count=0\n",
    "    pre=res[0]\n",
    "    \n",
    "    for j in range(len(res)):\n",
    "        if res[j] == pre:\n",
    "            count+=1\n",
    "        else:\n",
    "            #如果不一样，则从新开始累加\n",
    "            #把上一次得到的累加完毕的count和数字并到一起\n",
    "            new_res += str(count)+pre\n",
    "            count=1\n",
    "            #更新pre位当前位置的数值\n",
    "            pre=res[j]\n",
    "    res = new_res + str(count)+pre\n",
    "    \n",
    "    \n",
    "    "
   ]
  },
  {
   "cell_type": "code",
   "execution_count": 66,
   "metadata": {},
   "outputs": [
    {
     "data": {
      "text/plain": [
       "'111221'"
      ]
     },
     "execution_count": 66,
     "metadata": {},
     "output_type": "execute_result"
    }
   ],
   "source": [
    "res"
   ]
  },
  {
   "cell_type": "code",
   "execution_count": null,
   "metadata": {},
   "outputs": [],
   "source": []
  },
  {
   "cell_type": "code",
   "execution_count": null,
   "metadata": {},
   "outputs": [],
   "source": []
  },
  {
   "cell_type": "code",
   "execution_count": null,
   "metadata": {},
   "outputs": [],
   "source": []
  },
  {
   "cell_type": "code",
   "execution_count": null,
   "metadata": {
    "collapsed": true
   },
   "outputs": [],
   "source": []
  },
  {
   "cell_type": "code",
   "execution_count": null,
   "metadata": {
    "collapsed": true
   },
   "outputs": [],
   "source": []
  }
 ],
 "metadata": {
  "kernelspec": {
   "display_name": "Python 3",
   "language": "python",
   "name": "python3"
  },
  "language_info": {
   "codemirror_mode": {
    "name": "ipython",
    "version": 3
   },
   "file_extension": ".py",
   "mimetype": "text/x-python",
   "name": "python",
   "nbconvert_exporter": "python",
   "pygments_lexer": "ipython3",
   "version": "3.6.3"
  }
 },
 "nbformat": 4,
 "nbformat_minor": 2
}
