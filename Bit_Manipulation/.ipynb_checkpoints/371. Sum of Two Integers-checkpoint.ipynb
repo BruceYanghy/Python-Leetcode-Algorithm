{
 "cells": [
  {
   "cell_type": "markdown",
   "metadata": {},
   "source": [
    "Calculate the sum of two integers a and b, but you are not allowed to use the operator + and -.\n",
    "\n",
    "Example:\n",
    "Given a = 1 and b = 2, return 3."
   ]
  },
  {
   "cell_type": "markdown",
   "metadata": {},
   "source": [
    "https://www.youtube.com/watch?v=Pi7sMZWIIXE\n",
    "\n",
    "https://www.polarxiong.com/archives/LeetCode-371-sum-of-two-integers.html"
   ]
  },
  {
   "cell_type": "code",
   "execution_count": 17,
   "metadata": {
    "collapsed": true
   },
   "outputs": [],
   "source": [
    "a=11\n",
    "b=30"
   ]
  },
  {
   "cell_type": "code",
   "execution_count": 3,
   "metadata": {
    "collapsed": true
   },
   "outputs": [],
   "source": [
    " def getSum(a, b):\n",
    "        \"\"\"\n",
    "        :type a: int\n",
    "        :type b: int\n",
    "        :rtype: int\n",
    "        \"\"\"\n",
    "        while b != 0:\n",
    "            carry = a & b\n",
    "            a = (a ^ b) % 0x100000000\n",
    "            b = (carry << 1) % 0x100000000\n",
    "        return a if a <= 0x7FFFFFFF else a | (~0x100000000+1)"
   ]
  },
  {
   "cell_type": "code",
   "execution_count": 4,
   "metadata": {},
   "outputs": [
    {
     "data": {
      "text/plain": [
       "-532344120"
      ]
     },
     "execution_count": 4,
     "metadata": {},
     "output_type": "execute_result"
    }
   ],
   "source": [
    "getSum(a,b)"
   ]
  },
  {
   "cell_type": "code",
   "execution_count": 6,
   "metadata": {
    "collapsed": true
   },
   "outputs": [],
   "source": [
    "def getSum(a, b):\n",
    "        \"\"\"\n",
    "        :type a: int\n",
    "        :type b: int\n",
    "        :rtype: int\n",
    "        \"\"\"\n",
    "        # 32 bits integer max\n",
    "        MAX = 0x7FFFFFFF\n",
    "        # 32 bits interger min\n",
    "        MIN = 0x80000000\n",
    "        # mask to get last 32 bits\n",
    "        mask = 0xFFFFFFFF\n",
    "        while b != 0:\n",
    "            # ^ get different bits and & gets double 1s, << moves carry\n",
    "            a, b = (a ^ b) & mask, ((a & b) << 1) & mask\n",
    "        # if a is negative, get a's 32 bits complement positive first\n",
    "        # then get 32-bit positive's Python complement negative\n",
    "        return a if a <= MAX else ~(a ^ mask)"
   ]
  },
  {
   "cell_type": "code",
   "execution_count": 9,
   "metadata": {},
   "outputs": [
    {
     "data": {
      "text/plain": [
       "1347558"
      ]
     },
     "execution_count": 9,
     "metadata": {},
     "output_type": "execute_result"
    }
   ],
   "source": [
    "getSum(a,b)"
   ]
  },
  {
   "cell_type": "code",
   "execution_count": 18,
   "metadata": {},
   "outputs": [
    {
     "data": {
      "text/plain": [
       "21"
      ]
     },
     "execution_count": 18,
     "metadata": {},
     "output_type": "execute_result"
    }
   ],
   "source": [
    "a^b"
   ]
  },
  {
   "cell_type": "code",
   "execution_count": 19,
   "metadata": {},
   "outputs": [
    {
     "data": {
      "text/plain": [
       "22"
      ]
     },
     "execution_count": 19,
     "metadata": {},
     "output_type": "execute_result"
    }
   ],
   "source": [
    "a<<1"
   ]
  },
  {
   "cell_type": "code",
   "execution_count": 20,
   "metadata": {},
   "outputs": [
    {
     "data": {
      "text/plain": [
       "11"
      ]
     },
     "execution_count": 20,
     "metadata": {},
     "output_type": "execute_result"
    }
   ],
   "source": [
    "a"
   ]
  },
  {
   "cell_type": "raw",
   "metadata": {
    "collapsed": true
   },
   "source": [
    "The Operators:\n",
    "x << y\n",
    "Returns x with the bits shifted to the left by y places (and new bits on the right-hand-side are zeros). This is the same as multiplying x by 2**y.\n",
    "x >> y\n",
    "Returns x with the bits shifted to the right by y places. This is the same as //'ing x by 2**y.\n",
    "x & y\n",
    "Does a \"bitwise and\". Each bit of the output is 1 if the corresponding bit of x AND of y is 1, otherwise it's 0.\n",
    "x | y\n",
    "Does a \"bitwise or\". Each bit of the output is 0 if the corresponding bit of x AND of y is 0, otherwise it's 1.\n",
    "~ x\n",
    "Returns the complement of x - the number you get by switching each 1 for a 0 and each 0 for a 1. This is the same as -x - 1.\n",
    "x ^ y\n",
    "Does a \"bitwise exclusive or\". Each bit of the output is the same as the corresponding bit in x if that bit in y is 0, and it's the complement of the bit in x if that bit in y is 1."
   ]
  },
  {
   "cell_type": "markdown",
   "metadata": {
    "collapsed": true
   },
   "source": [
    "## 思路: "
   ]
  },
  {
   "cell_type": "raw",
   "metadata": {},
   "source": [
    "看看51和85以二进制的形式相加：\n",
    "\n",
    "  00110011\n",
    "+ 01010101\n",
    "----------\n",
    "  10001000\n",
    "  \n",
    "注意看，由于二进制仅有0和1，那么出现进位的情况只能是1和1相加，并且进位其实相当于在其前一位加1，那么进位产生的1就可以表示为按位与的结果再往左移位一位，即\n",
    "\n",
    "  00110011\n",
    "& 01010101\n",
    "----------\n",
    "  00010001\n",
    "<<\n",
    "----------\n",
    "  00100010\n",
    "  \n",
    "那么不考虑进位的相加结果是什么了，其实就是按位异或了，即\n",
    "  00110011\n",
    "^ 01010101\n",
    "----------\n",
    "  01100110\n",
    "  \n",
    "来看看“按位与，移位”和“按位异或”相加的结果：\n",
    "\n",
    "  00100010\n",
    "+ 01100110\n",
    "----------\n",
    "  10001000\n",
    "  \n",
    "怎么样？就是最终的答案了。所以只需要重复这个按位与和按位异或的过程，直到按位与的值为0（不产生进位），那么就得到最终结果了。来模拟一下\n",
    "\n",
    "     00110011\n",
    "     01010101\n",
    "----------\n",
    "& -> 00010001 << 1 -> 00100010\n",
    "^ -> 01100110\n",
    "\n",
    "     00100010\n",
    "     01100110\n",
    "----------\n",
    "& -> 00100010 << 1 -> 01000100\n",
    "^ -> 01000100\n",
    "\n",
    "     01000100\n",
    "     01000100\n",
    "----------\n",
    "& -> 01000100 << 1 -> 10001000\n",
    "^ -> 00000000\n",
    "\n",
    "     10001000\n",
    "     00000000\n",
    "----------\n",
    "& -> 00000000\n",
    "^ -> 10001000\n",
    "\n",
    "output: 10001000\n"
   ]
  },
  {
   "cell_type": "code",
   "execution_count": 25,
   "metadata": {
    "collapsed": true
   },
   "outputs": [],
   "source": [
    "def getSum(a, b):\n",
    "        \"\"\"\n",
    "        :type a: int\n",
    "        :type b: int\n",
    "        :rtype: int\n",
    "        \"\"\"\n",
    "        mask = 0xffffffff\n",
    "        sum = (a ^ b) & mask\n",
    "        part = a & b\n",
    "        while part:\n",
    "            a = sum\n",
    "            b = (part << 1) & mask\n",
    "            sum = (a ^ b) & mask\n",
    "            part = a & b\n",
    "        if sum & 0x80000000:\n",
    "            sum -= 0x100000000\n",
    "        return sum\n"
   ]
  },
  {
   "cell_type": "code",
   "execution_count": 28,
   "metadata": {},
   "outputs": [
    {
     "data": {
      "text/plain": [
       "31"
      ]
     },
     "execution_count": 28,
     "metadata": {},
     "output_type": "execute_result"
    }
   ],
   "source": [
    "getSum(11,20)"
   ]
  },
  {
   "cell_type": "code",
   "execution_count": null,
   "metadata": {
    "collapsed": true
   },
   "outputs": [],
   "source": []
  },
  {
   "cell_type": "code",
   "execution_count": null,
   "metadata": {
    "collapsed": true
   },
   "outputs": [],
   "source": []
  },
  {
   "cell_type": "code",
   "execution_count": null,
   "metadata": {
    "collapsed": true
   },
   "outputs": [],
   "source": []
  }
 ],
 "metadata": {
  "kernelspec": {
   "display_name": "Python 3",
   "language": "python",
   "name": "python3"
  },
  "language_info": {
   "codemirror_mode": {
    "name": "ipython",
    "version": 3
   },
   "file_extension": ".py",
   "mimetype": "text/x-python",
   "name": "python",
   "nbconvert_exporter": "python",
   "pygments_lexer": "ipython3",
   "version": "3.6.3"
  }
 },
 "nbformat": 4,
 "nbformat_minor": 2
}
