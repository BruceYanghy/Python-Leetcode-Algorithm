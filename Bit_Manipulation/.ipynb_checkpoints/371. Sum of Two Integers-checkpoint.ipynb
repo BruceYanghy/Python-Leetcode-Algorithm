{
 "cells": [
  {
   "cell_type": "markdown",
   "metadata": {},
   "source": [
    "Calculate the sum of two integers a and b, but you are not allowed to use the operator + and -.\n",
    "\n",
    "Example:\n",
    "Given a = 1 and b = 2, return 3."
   ]
  },
  {
   "cell_type": "markdown",
   "metadata": {},
   "source": [
    "https://www.youtube.com/watch?v=Pi7sMZWIIXE\n",
    "\n",
    "https://www.polarxiong.com/archives/LeetCode-371-sum-of-two-integers.html"
   ]
  },
  {
   "cell_type": "code",
   "execution_count": 17,
   "metadata": {
    "collapsed": true
   },
   "outputs": [],
   "source": [
    "a=11\n",
    "b=30"
   ]
  },
  {
   "cell_type": "code",
   "execution_count": 3,
   "metadata": {
    "collapsed": true
   },
   "outputs": [],
   "source": [
    " def getSum(a, b):\n",
    "        \"\"\"\n",
    "        :type a: int\n",
    "        :type b: int\n",
    "        :rtype: int\n",
    "        \"\"\"\n",
    "        while b != 0:\n",
    "            carry = a & b\n",
    "            a = (a ^ b) % 0x100000000\n",
    "            b = (carry << 1) % 0x100000000\n",
    "        return a if a <= 0x7FFFFFFF else a | (~0x100000000+1)"
   ]
  },
  {
   "cell_type": "code",
   "execution_count": 4,
   "metadata": {},
   "outputs": [
    {
     "data": {
      "text/plain": [
       "-532344120"
      ]
     },
     "execution_count": 4,
     "metadata": {},
     "output_type": "execute_result"
    }
   ],
   "source": [
    "getSum(a,b)"
   ]
  },
  {
   "cell_type": "code",
   "execution_count": 6,
   "metadata": {
    "collapsed": true
   },
   "outputs": [],
   "source": [
    "def getSum(a, b):\n",
    "        \"\"\"\n",
    "        :type a: int\n",
    "        :type b: int\n",
    "        :rtype: int\n",
    "        \"\"\"\n",
    "        # 32 bits integer max\n",
    "        MAX = 0x7FFFFFFF\n",
    "        # 32 bits interger min\n",
    "        MIN = 0x80000000\n",
    "        # mask to get last 32 bits\n",
    "        mask = 0xFFFFFFFF\n",
    "        while b != 0:\n",
    "            # ^ get different bits and & gets double 1s, << moves carry\n",
    "            a, b = (a ^ b) & mask, ((a & b) << 1) & mask\n",
    "        # if a is negative, get a's 32 bits complement positive first\n",
    "        # then get 32-bit positive's Python complement negative\n",
    "        return a if a <= MAX else ~(a ^ mask)"
   ]
  },
  {
   "cell_type": "code",
   "execution_count": 9,
   "metadata": {},
   "outputs": [
    {
     "data": {
      "text/plain": [
       "1347558"
      ]
     },
     "execution_count": 9,
     "metadata": {},
     "output_type": "execute_result"
    }
   ],
   "source": [
    "getSum(a,b)"
   ]
  },
  {
   "cell_type": "code",
   "execution_count": 18,
   "metadata": {},
   "outputs": [
    {
     "data": {
      "text/plain": [
       "21"
      ]
     },
     "execution_count": 18,
     "metadata": {},
     "output_type": "execute_result"
    }
   ],
   "source": [
    "a^b"
   ]
  },
  {
   "cell_type": "code",
   "execution_count": 19,
   "metadata": {
    "scrolled": true
   },
   "outputs": [
    {
     "data": {
      "text/plain": [
       "22"
      ]
     },
     "execution_count": 19,
     "metadata": {},
     "output_type": "execute_result"
    }
   ],
   "source": [
    "a<<1"
   ]
  },
  {
   "cell_type": "raw",
   "metadata": {
    "collapsed": true
   },
   "source": [
    "https://blog.csdn.net/coder_orz/article/details/52034541\n",
    "\n",
    "思路方法\n",
    "既然不能使用加法和减法，那么就用位操作。下面以计算5+4的例子说明如何用位操作实现加法： \n",
    "1. 用二进制表示两个加数，a=5=0101，b=4=0100； \n",
    "2. 用and（&）操作得到所有位上的进位carry=0100; \n",
    "3. 用xor（^）操作找到a和b不同的位，赋值给a，a=0001； \n",
    "4. 将进位carry左移一位，赋值给b，b=1000； \n",
    "5. 循环直到进位carry为0，此时得到a=1001，即最后的sum。\n",
    "\n",
    "上面思路还算正常，然而对于Python就有点麻烦了。因为Python的整数不是固定的32位，所以需要做一些特殊的处理，具体见代码吧。 \n",
    "代码里的将一个数对0x100000000取模（注意：Python的取模运算结果恒为非负数），是希望该数的二进制表示从第32位开始到更高的位都同是0（最低位是第0位），以在0-31位上模拟一个32位的int。\n",
    "\n"
   ]
  },
  {
   "cell_type": "raw",
   "metadata": {
    "collapsed": true
   },
   "source": [
    "The Operators:\n",
    "x << y\n",
    "Returns x with the bits shifted to the left by y places (and new bits on the right-hand-side are zeros). This is the same as multiplying x by 2**y.\n",
    "x >> y\n",
    "Returns x with the bits shifted to the right by y places. This is the same as //'ing x by 2**y.\n",
    "x & y\n",
    "Does a \"bitwise and\". Each bit of the output is 1 if the corresponding bit of x AND of y is 1, otherwise it's 0.\n",
    "x | y\n",
    "Does a \"bitwise or\". Each bit of the output is 0 if the corresponding bit of x AND of y is 0, otherwise it's 1.\n",
    "~ x\n",
    "Returns the complement of x - the number you get by switching each 1 for a 0 and each 0 for a 1. This is the same as -x - 1.\n",
    "x ^ y\n",
    "Does a \"bitwise exclusive or\". Each bit of the output is the same as the corresponding bit in x if that bit in y is 0, and it's the complement of the bit in x if that bit in y is 1."
   ]
  },
  {
   "cell_type": "markdown",
   "metadata": {
    "collapsed": true
   },
   "source": [
    "## 思路: "
   ]
  },
  {
   "cell_type": "raw",
   "metadata": {},
   "source": [
    "https://www.polarxiong.com/archives/LeetCode-371-sum-of-two-integers.html\n",
    "\n",
    "看看51和85以二进制的形式相加：\n",
    "\n",
    "  00110011\n",
    "+ 01010101\n",
    "----------\n",
    "  10001000\n",
    "  \n",
    "注意看，由于二进制仅有0和1，那么出现进位的情况只能是1和1相加，并且进位其实相当于在其前一位加1，那么进位产生的1就可以表示为按位与的结果再往左移位一位，即\n",
    "\n",
    "  00110011\n",
    "& 01010101\n",
    "----------\n",
    "  00010001\n",
    "<<\n",
    "----------\n",
    "  00100010\n",
    "  \n",
    "那么不考虑进位的相加结果是什么了，其实就是按位异或了，即\n",
    "  00110011\n",
    "^ 01010101\n",
    "----------\n",
    "  01100110\n",
    "  \n",
    "来看看“按位与，移位”和“按位异或”相加的结果：\n",
    "\n",
    "  00100010\n",
    "+ 01100110\n",
    "----------\n",
    "  10001000\n",
    "  \n",
    "怎么样？就是最终的答案了。所以只需要重复这个按位与和按位异或的过程，直到按位与的值为0（不产生进位），那么就得到最终结果了。来模拟一下\n",
    "\n",
    "     00110011\n",
    "     01010101\n",
    "----------\n",
    "& -> 00010001 << 1 -> 00100010\n",
    "^ -> 01100110\n",
    "\n",
    "     00100010\n",
    "     01100110\n",
    "----------\n",
    "& -> 00100010 << 1 -> 01000100\n",
    "^ -> 01000100\n",
    "\n",
    "     01000100\n",
    "     01000100\n",
    "----------\n",
    "& -> 01000100 << 1 -> 10001000\n",
    "^ -> 00000000\n",
    "\n",
    "     10001000\n",
    "     00000000\n",
    "----------\n",
    "& -> 00000000\n",
    "^ -> 10001000\n",
    "\n",
    "output: 10001000\n"
   ]
  },
  {
   "cell_type": "code",
   "execution_count": 25,
   "metadata": {
    "collapsed": true
   },
   "outputs": [],
   "source": [
    "def getSum(a, b):\n",
    "        \"\"\"\n",
    "        :type a: int\n",
    "        :type b: int\n",
    "        :rtype: int\n",
    "        \"\"\"\n",
    "        mask = 0xffffffff\n",
    "        sum = (a ^ b) & mask\n",
    "        part = a & b\n",
    "        while part:\n",
    "            a = sum\n",
    "            b = (part << 1) & mask\n",
    "            sum = (a ^ b) & mask\n",
    "            part = a & b\n",
    "        if sum & 0x80000000:\n",
    "            sum -= 0x100000000\n",
    "        return sum\n"
   ]
  },
  {
   "cell_type": "code",
   "execution_count": 28,
   "metadata": {},
   "outputs": [
    {
     "data": {
      "text/plain": [
       "31"
      ]
     },
     "execution_count": 28,
     "metadata": {},
     "output_type": "execute_result"
    }
   ],
   "source": [
    "getSum(11,20)"
   ]
  },
  {
   "cell_type": "code",
   "execution_count": 50,
   "metadata": {},
   "outputs": [],
   "source": [
    "\n",
    "def getSum(a, b):\n",
    "        \"\"\"\n",
    "        :type a: int\n",
    "        :type b: int\n",
    "        :rtype: int\n",
    "        \"\"\"\n",
    "        MAX = 0x7FFFFFFF\n",
    "        mask = 0xFFFFFFFF\n",
    "        \n",
    "        while b!=0:\n",
    "            \n",
    "            xor=(a ^ b) & mask\n",
    "            and_shift= ((a & b) <<1) & mask\n",
    "            a = xor\n",
    "            b = and_shift\n",
    "        return a if a <= MAX else ~(a^mask)"
   ]
  },
  {
   "cell_type": "code",
   "execution_count": 51,
   "metadata": {},
   "outputs": [
    {
     "data": {
      "text/plain": [
       "-9"
      ]
     },
     "execution_count": 51,
     "metadata": {},
     "output_type": "execute_result"
    }
   ],
   "source": [
    "getSum(11,-20)"
   ]
  },
  {
   "cell_type": "code",
   "execution_count": 47,
   "metadata": {
    "collapsed": true
   },
   "outputs": [],
   "source": [
    "def getSum(a, b):\n",
    "        \"\"\"\n",
    "        :type a: int\n",
    "        :type b: int\n",
    "        :rtype: int\n",
    "        \"\"\"\n",
    "       \n",
    "        \n",
    "        while b!=0:\n",
    "            \n",
    "            xor=(a ^ b)\n",
    "            and_shift= ((a & b) <<1) \n",
    "            a = xor\n",
    "            b = and_shift\n",
    "        return a "
   ]
  },
  {
   "cell_type": "code",
   "execution_count": 49,
   "metadata": {},
   "outputs": [
    {
     "ename": "KeyboardInterrupt",
     "evalue": "",
     "output_type": "error",
     "traceback": [
      "\u001b[0;31m---------------------------------------------------------------------------\u001b[0m",
      "\u001b[0;31mKeyboardInterrupt\u001b[0m                         Traceback (most recent call last)",
      "\u001b[0;32m<ipython-input-49-435cad02ed07>\u001b[0m in \u001b[0;36m<module>\u001b[0;34m()\u001b[0m\n\u001b[0;32m----> 1\u001b[0;31m \u001b[0mgetSum\u001b[0m\u001b[0;34m(\u001b[0m\u001b[0;36m4\u001b[0m\u001b[0;34m,\u001b[0m\u001b[0;34m-\u001b[0m\u001b[0;36m3\u001b[0m\u001b[0;34m)\u001b[0m\u001b[0;34m\u001b[0m\u001b[0m\n\u001b[0m",
      "\u001b[0;32m<ipython-input-47-43ca04b48f24>\u001b[0m in \u001b[0;36mgetSum\u001b[0;34m(a, b)\u001b[0m\n\u001b[1;32m      9\u001b[0m         \u001b[0;32mwhile\u001b[0m \u001b[0mb\u001b[0m\u001b[0;34m!=\u001b[0m\u001b[0;36m0\u001b[0m\u001b[0;34m:\u001b[0m\u001b[0;34m\u001b[0m\u001b[0m\n\u001b[1;32m     10\u001b[0m \u001b[0;34m\u001b[0m\u001b[0m\n\u001b[0;32m---> 11\u001b[0;31m             \u001b[0mxor\u001b[0m\u001b[0;34m=\u001b[0m\u001b[0;34m(\u001b[0m\u001b[0ma\u001b[0m \u001b[0;34m^\u001b[0m \u001b[0mb\u001b[0m\u001b[0;34m)\u001b[0m\u001b[0;34m\u001b[0m\u001b[0m\n\u001b[0m\u001b[1;32m     12\u001b[0m             \u001b[0mand_shift\u001b[0m\u001b[0;34m=\u001b[0m \u001b[0;34m(\u001b[0m\u001b[0;34m(\u001b[0m\u001b[0ma\u001b[0m \u001b[0;34m&\u001b[0m \u001b[0mb\u001b[0m\u001b[0;34m)\u001b[0m \u001b[0;34m<<\u001b[0m\u001b[0;36m1\u001b[0m\u001b[0;34m)\u001b[0m\u001b[0;34m\u001b[0m\u001b[0m\n\u001b[1;32m     13\u001b[0m             \u001b[0ma\u001b[0m \u001b[0;34m=\u001b[0m \u001b[0mxor\u001b[0m\u001b[0;34m\u001b[0m\u001b[0m\n",
      "\u001b[0;31mKeyboardInterrupt\u001b[0m: "
     ]
    }
   ],
   "source": [
    "getSum(4,-3)"
   ]
  },
  {
   "cell_type": "code",
   "execution_count": 57,
   "metadata": {},
   "outputs": [],
   "source": [
    "a=4\n",
    "b=-3\n",
    "mask = 0xFFFFFFFF\n",
    "\n",
    "while b!=0:\n",
    "    xor=(a ^ b)& mask\n",
    "    and_shift= ((a & b) <<1) & mask\n",
    "    a = xor\n",
    "    b = and_shift"
   ]
  },
  {
   "cell_type": "code",
   "execution_count": 58,
   "metadata": {},
   "outputs": [
    {
     "data": {
      "text/plain": [
       "1"
      ]
     },
     "execution_count": 58,
     "metadata": {},
     "output_type": "execute_result"
    }
   ],
   "source": [
    "a"
   ]
  },
  {
   "cell_type": "code",
   "execution_count": null,
   "metadata": {
    "collapsed": true
   },
   "outputs": [],
   "source": []
  },
  {
   "cell_type": "code",
   "execution_count": null,
   "metadata": {
    "collapsed": true
   },
   "outputs": [],
   "source": []
  },
  {
   "cell_type": "raw",
   "metadata": {},
   "source": [
    "https://www.jianshu.com/p/f4d174b9fb36\n",
    "\n",
    "解析：\n",
    "既然规定不能用加减运算符，这个时候我们可以思考：计算机本身又是如何解决加法这个问题的呢？如果你听说过加法器这个东西，那么问题就比较好解决了。我们可以用逻辑运算来模拟加法。\n",
    "首先，我们可以把十进制转化成二进制，我们需要一个具体的例子来分析。假设要计算12 + 29(1100 + 11101)的和。\n",
    "\n",
    "|十进制\\位数|5|4|3|2|1|\n",
    "|-|-|-|-|-|\n",
    "|12|0|1|1|0|0|\n",
    "|29|1|1|1|0|1|\n",
    "\n",
    "现在的问题就变成了怎么解决二进制加法的问题。由于加数和被加数的位数不定，又是在做加法，那么问题必然要用到循环。\n",
    "两个位的和可以通过执行两个位的XOR(^)来获得。通过执行与(&)的两个位，可以获得进位。也就是半加法器逻辑。\n",
    "\n",
    "语句\t第一次循环\t二\t三\t\n",
    "while(b != 0) {\ta = 01100, b = 11101\t见上次\t见上次\t结束\n",
    "int carry = a & b\tcarry = 1100\tcarry = 10000\tcarry = 0\n",
    "a = a ^ b\ta = 10001(17)\ta = 1001(9)\ta = 101001(41)\n",
    "b = carry << 1\tb = 11000(24)\tb = 100000(32)\tb = 0(0)\n",
    "}\t17 + 24 = 41\t9 + 32 = 41\t41 + 0 = 41\t\n",
    "Q: 为什么是 carry << 1？\n",
    "通过上面表格的分析，相信大家可以看到，每一列的 a + b 都等于 最终的结果。Why？这个算法本质上就是把有进位的和无进位的分开加。a ^ b是计算无进位的和。a & b就是计算有进位的和。有进位的情况只有一种：两个相加的位同时为1，他们的和自然就是原来的2倍，也就是carry << 1。比如：1101(13) + 1101(13) = 11010(26)。\n",
    "\n",
    "作者：_Xie_\n",
    "链接：https://www.jianshu.com/p/f4d174b9fb36\n",
    "來源：简书\n",
    "简书著作权归作者所有，任何形式的转载都请联系作者获得授权并注明出处。"
   ]
  },
  {
   "cell_type": "code",
   "execution_count": null,
   "metadata": {
    "collapsed": true
   },
   "outputs": [],
   "source": []
  },
  {
   "cell_type": "code",
   "execution_count": null,
   "metadata": {
    "collapsed": true
   },
   "outputs": [],
   "source": []
  },
  {
   "cell_type": "code",
   "execution_count": null,
   "metadata": {
    "collapsed": true
   },
   "outputs": [],
   "source": []
  }
 ],
 "metadata": {
  "kernelspec": {
   "display_name": "Python 3",
   "language": "python",
   "name": "python3"
  },
  "language_info": {
   "codemirror_mode": {
    "name": "ipython",
    "version": 3
   },
   "file_extension": ".py",
   "mimetype": "text/x-python",
   "name": "python",
   "nbconvert_exporter": "python",
   "pygments_lexer": "ipython3",
   "version": "3.6.3"
  }
 },
 "nbformat": 4,
 "nbformat_minor": 2
}
