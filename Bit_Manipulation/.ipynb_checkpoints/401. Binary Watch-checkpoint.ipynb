{
 "cells": [
  {
   "cell_type": "markdown",
   "metadata": {},
   "source": [
    "A binary watch has 4 LEDs on the top which represent the hours (0-11), and the 6 LEDs on the bottom represent the minutes (0-59).\n",
    "\n",
    "Each LED represents a zero or one, with the least significant bit on the right.\n",
    "\n",
    "\n",
    "For example, the above binary watch reads \"3:25\".\n",
    "\n",
    "Given a non-negative integer n which represents the number of LEDs that are currently on, return all possible times the watch could represent.\n",
    "\n",
    "Example:\n",
    "\n",
    "Input: n = 1\n",
    "Return: [\"1:00\", \"2:00\", \"4:00\", \"8:00\", \"0:01\", \"0:02\", \"0:04\", \"0:08\", \"0:16\", \"0:32\"]\n",
    "Note:\n",
    "The order of output does not matter.\n",
    "The hour must not contain a leading zero, for example \"01:00\" is not valid, it should be \"1:00\".\n",
    "The minute must be consist of two digits and may contain a leading zero, for example \"10:2\" is not valid, it should be \"10:02\"."
   ]
  },
  {
   "cell_type": "raw",
   "metadata": {},
   "source": [
    "n=1 4+6=10\n",
    "n=2 6+15=21\n",
    "n=3 "
   ]
  },
  {
   "cell_type": "raw",
   "metadata": {},
   "source": [
    "http://bookshadow.com/weblog/2016/09/18/leetcode-binary-watch/\n",
    "    \n",
    "解题思路：\n",
    "位运算（Bit Manipulation）\n",
    "\n",
    "10盏灯泡的燃亮情况可以通过0-1024进行表示，然后计数二进制1的个数即可。\n",
    "\n",
    "利用位运算将状态拆分为小时和分钟。"
   ]
  },
  {
   "cell_type": "code",
   "execution_count": null,
   "metadata": {
    "collapsed": true
   },
   "outputs": [],
   "source": [
    "def readBinaryWatch(self, num):\n",
    "        \"\"\"\n",
    "        :type num: int\n",
    "        :rtype: List[str]\n",
    "        \"\"\"\n",
    "        ans = []\n",
    "        for x in range(1024):\n",
    "            if bin(x).count('1') == num:\n",
    "                h, m = x >> 6, x & 0x3F\n",
    "                if h < 12 and m < 60:\n",
    "                    ans.append('%d:%02d' % (h, m))\n",
    "        return ans"
   ]
  },
  {
   "cell_type": "code",
   "execution_count": null,
   "metadata": {
    "collapsed": true
   },
   "outputs": [],
   "source": []
  },
  {
   "cell_type": "code",
   "execution_count": null,
   "metadata": {
    "collapsed": true
   },
   "outputs": [],
   "source": [
    "def readBinaryWatch(self, num):\n",
    "        \"\"\"\n",
    "        :type num: int\n",
    "        :rtype: List[str]\n",
    "        \"\"\"\n",
    "        ans = []\n",
    "        for h in range(12):\n",
    "            for m in range(60):\n",
    "                if (bin(h)+ bin(m)).count('1') == num:\n",
    "                    ans.append('%d:%02d' % (h, m))\n",
    "        return ans"
   ]
  },
  {
   "cell_type": "code",
   "execution_count": null,
   "metadata": {
    "collapsed": true
   },
   "outputs": [],
   "source": []
  },
  {
   "cell_type": "code",
   "execution_count": null,
   "metadata": {
    "collapsed": true
   },
   "outputs": [],
   "source": []
  },
  {
   "cell_type": "code",
   "execution_count": null,
   "metadata": {
    "collapsed": true
   },
   "outputs": [],
   "source": []
  }
 ],
 "metadata": {
  "kernelspec": {
   "display_name": "Python 3",
   "language": "python",
   "name": "python3"
  },
  "language_info": {
   "codemirror_mode": {
    "name": "ipython",
    "version": 3
   },
   "file_extension": ".py",
   "mimetype": "text/x-python",
   "name": "python",
   "nbconvert_exporter": "python",
   "pygments_lexer": "ipython3",
   "version": "3.6.3"
  }
 },
 "nbformat": 4,
 "nbformat_minor": 2
}
