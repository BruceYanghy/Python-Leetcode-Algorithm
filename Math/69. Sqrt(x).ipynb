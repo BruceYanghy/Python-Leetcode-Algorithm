{
 "cells": [
  {
   "cell_type": "markdown",
   "metadata": {},
   "source": [
    "Implement int sqrt(int x).\n",
    "\n",
    "Compute and return the square root of x, where x is guaranteed to be a non-negative integer.\n",
    "\n",
    "Since the return type is an integer, the decimal digits are truncated and only the integer part of the result is returned.\n",
    "\n",
    "Example 1:\n",
    "\n",
    "Input: 4\n",
    "Output: 2\n",
    "Example 2:\n",
    "\n",
    "Input: 8\n",
    "Output: 2\n",
    "Explanation: The square root of 8 is 2.82842..., and since \n",
    "             the decimal part is truncated, 2 is returned.\n"
   ]
  },
  {
   "cell_type": "code",
   "execution_count": null,
   "metadata": {
    "collapsed": true
   },
   "outputs": [],
   "source": []
  },
  {
   "cell_type": "code",
   "execution_count": 2,
   "metadata": {
    "collapsed": true
   },
   "outputs": [],
   "source": [
    "def mySqrt(self, x):\n",
    "        \"\"\"\n",
    "        :type x: int\n",
    "        :rtype: int\n",
    "        \"\"\"\n",
    "        if x==1: return 1 #deal with exception\n",
    "        l, r = 0, x\n",
    "        while l <= r:\n",
    "            mid = (r+l)//2\n",
    "            if mid * mid <= x < (mid+1)*(mid+1):\n",
    "                return mid\n",
    "            elif x < mid * mid:\n",
    "                r = mid\n",
    "            else:\n",
    "                l = mid"
   ]
  },
  {
   "cell_type": "code",
   "execution_count": null,
   "metadata": {
    "collapsed": true
   },
   "outputs": [],
   "source": [
    "class Solution(object):\n",
    "    def mySqrt(self, x):\n",
    "        \"\"\"\n",
    "        :type x: int\n",
    "        :rtype: int\n",
    "        \"\"\"\n",
    "        #二分查找\n",
    "        if x < 2:\n",
    "            return x\n",
    "        low, high = 1, x/2\n",
    "        last = 0\n",
    "        while low <= high:\n",
    "            mid = (low + high)/2\n",
    "            if mid * mid > x:\n",
    "                high = mid -1\n",
    "            elif mid * mid < x:\n",
    "                low = mid + 1\n",
    "                last = mid\n",
    "            else:\n",
    "                return mid\n",
    "        return last "
   ]
  },
  {
   "cell_type": "code",
   "execution_count": null,
   "metadata": {
    "collapsed": true
   },
   "outputs": [],
   "source": [
    "class Solution(object):\n",
    "    def mySqrt(self, x):\n",
    "        \"\"\"\n",
    "        :type x: int\n",
    "        :rtype: int\n",
    "        \"\"\"\n",
    "\n",
    "        left = 0\n",
    "        right = x\n",
    "\n",
    "        while(left <= right):\n",
    "            mid = (left + right)/2\n",
    "\n",
    "            if(mid*mid < x):\n",
    "                left = mid + 1\n",
    "\n",
    "            elif(mid*mid > x):\n",
    "                right = mid -1\n",
    "\n",
    "            else:\n",
    "                return mid\n",
    "\n",
    "        return left - 1"
   ]
  },
  {
   "cell_type": "code",
   "execution_count": 27,
   "metadata": {
    "collapsed": true
   },
   "outputs": [],
   "source": [
    "def mySqrt(x):\n",
    "        \"\"\"\n",
    "        :type x: int\n",
    "        :rtype: int\n",
    "        \"\"\"\n",
    "        low, high, mid = 0, x, x // 2\n",
    "        while low <= high:\n",
    "            if mid * mid > x:\n",
    "                high = mid - 1\n",
    "            else:\n",
    "                low = mid + 1\n",
    "            mid = (low + high) // 2\n",
    "        return mid"
   ]
  },
  {
   "cell_type": "code",
   "execution_count": 28,
   "metadata": {},
   "outputs": [
    {
     "data": {
      "text/plain": [
       "2"
      ]
     },
     "execution_count": 28,
     "metadata": {},
     "output_type": "execute_result"
    }
   ],
   "source": [
    "mySqrt(8)"
   ]
  },
  {
   "cell_type": "code",
   "execution_count": 22,
   "metadata": {},
   "outputs": [
    {
     "data": {
      "text/plain": [
       "2.8284271247461903"
      ]
     },
     "execution_count": 22,
     "metadata": {},
     "output_type": "execute_result"
    }
   ],
   "source": [
    "8**0.5"
   ]
  },
  {
   "cell_type": "code",
   "execution_count": 10,
   "metadata": {
    "collapsed": true
   },
   "outputs": [],
   "source": [
    "low=0\n",
    "high=x\n",
    "mid = x // 2"
   ]
  },
  {
   "cell_type": "code",
   "execution_count": 13,
   "metadata": {},
   "outputs": [
    {
     "data": {
      "text/plain": [
       "11.390625"
      ]
     },
     "execution_count": 13,
     "metadata": {},
     "output_type": "execute_result"
    }
   ],
   "source": [
    "3.375*3.375"
   ]
  },
  {
   "cell_type": "code",
   "execution_count": null,
   "metadata": {
    "collapsed": true
   },
   "outputs": [],
   "source": []
  }
 ],
 "metadata": {
  "kernelspec": {
   "display_name": "Python 3",
   "language": "python",
   "name": "python3"
  },
  "language_info": {
   "codemirror_mode": {
    "name": "ipython",
    "version": 3
   },
   "file_extension": ".py",
   "mimetype": "text/x-python",
   "name": "python",
   "nbconvert_exporter": "python",
   "pygments_lexer": "ipython3",
   "version": "3.6.3"
  }
 },
 "nbformat": 4,
 "nbformat_minor": 2
}
